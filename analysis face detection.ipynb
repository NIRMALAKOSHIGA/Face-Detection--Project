{
 "cells": [
  {
   "cell_type": "code",
   "execution_count": null,
   "id": "ce0550da",
   "metadata": {},
   "outputs": [],
   "source": [
    "pip install face_recognition\n"
   ]
  },
  {
   "cell_type": "code",
   "execution_count": null,
   "id": "bc1e1e7f",
   "metadata": {},
   "outputs": [],
   "source": [
    "import cv2\n",
    "import numpy as np\n",
    "import matplotlib.pyplot as plt\n",
    "import matplotlibatplotlibr\n",
    "import seaborn as sns\n",
    "from PIL import Image\n",
    "import os\n",
    "import pandas as pd"
   ]
  },
  {
   "cell_type": "code",
   "execution_count": null,
   "id": "d83a1151",
   "metadata": {},
   "outputs": [],
   "source": [
    "pip list\n"
   ]
  },
  {
   "cell_type": "code",
   "execution_count": null,
   "id": "4e2dd6ab",
   "metadata": {},
   "outputs": [],
   "source": [
    "def read_json_label(label_path):\n",
    "    \"\"\"Read faces from a JSON label file.\"\"\"\n",
    "    with open(label_path, 'r') as f:\n",
    "        data = json.load(f)\n",
    "    faces = data.get('faces', [])\n",
    "    print(f\"Read faces from JSON: {faces}\")  \n",
    "    return faces"
   ]
  },
  {
   "cell_type": "code",
   "execution_count": null,
   "id": "6bc35e89",
   "metadata": {},
   "outputs": [],
   "source": [
    "def detect_faces_using_labels(image_path, label_path):\n",
    "    \"\"\"Detect faces in an image using labels.\"\"\"\n",
    "    img = cv2.imread(image_path)\n",
    "    if img is None:\n",
    "        print(f\"Error loading image: {image_path}\")\n",
    "        return\n",
    "\n",
    "    faces = read_json_label(label_path)\n",
    "    print(f\"Faces detected: {faces}\") \n",
    "    for (x, y, w, h) in faces:\n",
    "       "
   ]
  },
  {
   "cell_type": "code",
   "execution_count": null,
   "id": "0fba0801",
   "metadata": {},
   "outputs": [],
   "source": [
    " # Draw rectangle around detected faces\n",
    "        cv2.rectangle(img, (x, y), (x + w, y + h), (0, 255, 0), 2)\n",
    "\n",
    "    "
   ]
  },
  {
   "cell_type": "markdown",
   "id": "296c72df",
   "metadata": {},
   "source": [
    "# Convert BGR image to RGB"
   ]
  },
  {
   "cell_type": "code",
   "execution_count": null,
   "id": "db6ad0b8",
   "metadata": {},
   "outputs": [],
   "source": [
    "\n",
    "    img_rgb = cv2.cvtColor(img, cv2.COLOR_BGR2RGB)\n",
    "    plt.imshow(img_rgb)\n",
    "    plt.title(f\"Processed {os.path.basename(image_path)}\")\n",
    "    plt.axis('off')\n",
    "    plt.show()"
   ]
  },
  {
   "cell_type": "code",
   "execution_count": null,
   "id": "e87f7448",
   "metadata": {},
   "outputs": [],
   "source": [
    "def detect_faces(image_path):\n",
    "    \"\"\"Detect faces in an image and display it.\"\"\"\n",
    "    img = cv2.imread(image_path)\n",
    "    if img is None:\n",
    "        print(f\"Error loading image: {image_path}\")\n",
    "        return"
   ]
  },
  {
   "cell_type": "markdown",
   "id": "90c72bfe",
   "metadata": {},
   "source": [
    "#  Example face detection (replace with your actual face detection code)\n",
    "# Here we'll just draw a dummy rectangle as an example\n",
    "# For actual face detection, use a model like Haar cascades or DNN"
   ]
  },
  {
   "cell_type": "code",
   "execution_count": null,
   "id": "4d350c4a",
   "metadata": {},
   "outputs": [],
   "source": [
    "  height, width, _ = img.shape\n",
    "    cv2.rectangle(img, (70, 70), (width - 70, height - 70), (0, 255, 0), 2)"
   ]
  },
  {
   "cell_type": "markdown",
   "id": "76628d91",
   "metadata": {},
   "source": [
    "# Display the image with the detected faces"
   ]
  },
  {
   "cell_type": "code",
   "execution_count": null,
   "id": "aed264c9",
   "metadata": {},
   "outputs": [],
   "source": [
    "\n",
    "    plt.imshow(cv2.cvtColor(img, cv2.COLOR_BGR2RGB))\n",
    "    plt.axis('off')\n",
    "    plt.show()\n",
    "\n",
    "dataset_path = r'C:\\Users\\nirma\\OneDrive\\Desktop\\Face data\\data\\images'\n",
    "\n",
    "for root, dirs, files in os.walk(dataset_path):\n",
    "    for file in files:\n",
    "    \n",
    "       "
   ]
  },
  {
   "cell_type": "markdown",
   "id": "29dac76f",
   "metadata": {},
   "source": [
    "# Check for valid image file extensions"
   ]
  },
  {
   "cell_type": "code",
   "execution_count": null,
   "id": "3c7efbca",
   "metadata": {},
   "outputs": [],
   "source": [
    " if file.endswith(('jpg', 'jpeg', 'png')):\n",
    "            image_path = os.path.join(root, file)\n",
    "            print(f\"Processing {image_path}\")\n",
    "            detect_faces(image_path)"
   ]
  },
  {
   "cell_type": "code",
   "execution_count": null,
   "id": "a25a9c1d",
   "metadata": {},
   "outputs": [],
   "source": []
  }
 ],
 "metadata": {
  "kernelspec": {
   "display_name": "Python 3 (ipykernel)",
   "language": "python",
   "name": "python3"
  },
  "language_info": {
   "codemirror_mode": {
    "name": "ipython",
    "version": 3
   },
   "file_extension": ".py",
   "mimetype": "text/x-python",
   "name": "python",
   "nbconvert_exporter": "python",
   "pygments_lexer": "ipython3",
   "version": "3.9.13"
  },
  "varInspector": {
   "cols": {
    "lenName": 16,
    "lenType": 16,
    "lenVar": 40
   },
   "kernels_config": {
    "python": {
     "delete_cmd_postfix": "",
     "delete_cmd_prefix": "del ",
     "library": "var_list.py",
     "varRefreshCmd": "print(var_dic_list())"
    },
    "r": {
     "delete_cmd_postfix": ") ",
     "delete_cmd_prefix": "rm(",
     "library": "var_list.r",
     "varRefreshCmd": "cat(var_dic_list()) "
    }
   },
   "types_to_exclude": [
    "module",
    "function",
    "builtin_function_or_method",
    "instance",
    "_Feature"
   ],
   "window_display": false
  }
 },
 "nbformat": 4,
 "nbformat_minor": 5
}
